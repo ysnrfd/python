{
 "cells": [
  {
   "cell_type": "code",
   "execution_count": null,
   "id": "f8a34a5c-7d7b-4c3f-ac3b-72fb8361d148",
   "metadata": {
    "scrolled": true
   },
   "outputs": [],
   "source": [
    "import gradio as gr\n",
    "from transformers import AutoTokenizer, AutoModelForCausalLM\n",
    "import torch\n",
    "\n",
    "# بارگذاری مدل و توکنایزر\n",
    "tokenizer = AutoTokenizer.from_pretrained(\"HooshvareLab/gpt2-fa\")\n",
    "model = AutoModelForCausalLM.from_pretrained(\"HooshvareLab/gpt2-fa\")\n",
    "\n",
    "# تابع تولید متن با تنظیمات دقیق\n",
    "def generate_text(prompt):\n",
    "    input_ids = tokenizer.encode(prompt, return_tensors=\"pt\")\n",
    "    output = model.generate(\n",
    "        input_ids,\n",
    "        max_new_tokens=256,\n",
    "        do_sample=True,\n",
    "        temperature=0.7,\n",
    "        top_k=50,\n",
    "        top_p=0.92,\n",
    "        repetition_penalty=1.3,\n",
    "        no_repeat_ngram_size=3,\n",
    "        pad_token_id=tokenizer.eos_token_id,\n",
    "        eos_token_id=tokenizer.eos_token_id\n",
    "    )\n",
    "    return tokenizer.decode(output[0], skip_special_tokens=True)\n",
    "\n",
    "# ساخت رابط گرافیکی با Gradio\n",
    "gr.Interface(\n",
    "    fn=generate_text,\n",
    "    inputs=gr.Textbox(label=\"📝 متن ورودی (پرامپت)\", placeholder=\"مثلاً: در یک روز بهاری،\", lines=3),\n",
    "    outputs=gr.Textbox(label=\"📄 متن تولید شده\"),\n",
    "    title=\"💬 تولید متن فارسی دقیق با GPT2\",\n",
    "    description=\"این ابزار از مدل bolbolzaban/gpt2-persian استفاده می‌کند و متن روان و طبیعی به زبان فارسی تولید می‌کند.\",\n",
    "    theme=\"soft\"\n",
    ").launch()\n"
   ]
  },
  {
   "cell_type": "code",
   "execution_count": null,
   "id": "33b7f00a-888b-4e51-9453-3c9b7f2e82c0",
   "metadata": {},
   "outputs": [],
   "source": []
  }
 ],
 "metadata": {
  "kernelspec": {
   "display_name": "Python [conda env:base] *",
   "language": "python",
   "name": "conda-base-py"
  },
  "language_info": {
   "codemirror_mode": {
    "name": "ipython",
    "version": 3
   },
   "file_extension": ".py",
   "mimetype": "text/x-python",
   "name": "python",
   "nbconvert_exporter": "python",
   "pygments_lexer": "ipython3",
   "version": "3.12.7"
  }
 },
 "nbformat": 4,
 "nbformat_minor": 5
}
